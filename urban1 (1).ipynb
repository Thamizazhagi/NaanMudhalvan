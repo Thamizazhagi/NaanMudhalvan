{
  "metadata": {
    "kernelspec": {
      "name": "python",
      "display_name": "Python (Pyodide)",
      "language": "python"
    },
    "language_info": {
      "codemirror_mode": {
        "name": "python",
        "version": 3
      },
      "file_extension": ".py",
      "mimetype": "text/x-python",
      "name": "python",
      "nbconvert_exporter": "python",
      "pygments_lexer": "ipython3",
      "version": "3.8"
    }
  },
  "nbformat_minor": 5,
  "nbformat": 4,
  "cells": [
    {
      "id": "8cb64d71-a440-4b4e-a145-87f98792583f",
      "cell_type": "code",
      "source": "# Function to simulate user input (hardcoded values)\ndef get_user_input():\n    print(\"Using predefined input values (for browser environment):\")\n    zone_density = 7500  # Population density (people per sq. km)\n    landmix = 0.6        # Land-use mix (0 to 1)\n    inter_density = 80   # Intersection density (per sq. km)\n    transit_score = 8.5  # Transit score (0 to 10)\n    return zone_density, landmix, inter_density, transit_score\n\n# Function to calculate walkability\ndef calculate_walkability(zone_density, landmix, inter_density, transit_score):\n    norm_zone_density = zone_density / 10000\n    norm_landmix = landmix\n    norm_inter_density = inter_density / 100\n    norm_transit_score = transit_score / 10\n\n    score = (norm_zone_density + norm_landmix + norm_inter_density + norm_transit_score) / 4\n    return score * 100\n\n# Function to classify the score\ndef classify_score(score):\n    if score >= 80:\n        return \"Highly Walkable\"\n    elif score >= 50:\n        return \"Moderately Walkable\"\n    else:\n        return \"Car-Dependent\"\n\n# Main function\ndef main():\n    print(\"Urban Walkability Estimator\")\n    print(\"-\" * 35)\n\n    pop_density, land_mix, inter_density, transit_score = get_user_input()\n    score = calculate_walkability(pop_density, land_mix, inter_density, transit_score)\n    classification = classify_score(score)\n\n    print(f\"\\nEstimated Walkability Score: {score:.2f} / 100\")\n    print(f\"Classification: {classification}\")\n\n# Run the program\nmain()",
      "metadata": {
        "trusted": true
      },
      "outputs": [
        {
          "name": "stdout",
          "output_type": "stream",
          "text": "Urban Walkability Estimator\n-----------------------------------\nUsing predefined input values (for browser environment):\n\nEstimated Walkability Score: 75.00 / 100\nClassification: Moderately Walkable\n"
        }
      ],
      "execution_count": 1
    },
    {
      "id": "bb667d20-3e18-4981-bf84-da5792e4f74e",
      "cell_type": "code",
      "source": "",
      "metadata": {
        "trusted": true
      },
      "outputs": [],
      "execution_count": null
    }
  ]
}